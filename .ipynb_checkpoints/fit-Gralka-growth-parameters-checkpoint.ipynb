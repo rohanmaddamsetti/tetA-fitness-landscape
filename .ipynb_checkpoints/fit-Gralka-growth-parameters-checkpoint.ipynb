{
 "cells": [
  {
   "cell_type": "markdown",
   "id": "c46268b0-f39e-481e-a6fc-ab836a51a93d",
   "metadata": {},
   "source": [
    "fit-Gralka-growth-parameters.py by Rohan Maddamsetti\n",
    "See equation in Gralka et al. (2023) in Nature Micro.\n"
   ]
  },
  {
   "cell_type": "code",
   "execution_count": 1,
   "id": "3aad11fc-7712-4540-884d-77cb0ddbc9c2",
   "metadata": {},
   "outputs": [],
   "source": [
    "import pandas as pd\n",
    "import numpy as np\n",
    "from scipy.optimize import curve_fit\n",
    "import matplotlib.pyplot as plt"
   ]
  },
  {
   "cell_type": "code",
   "execution_count": 2,
   "id": "5c61fd03-be65-46d7-ba16-15c6bf1798dc",
   "metadata": {},
   "outputs": [],
   "source": [
    "# Define the sigmoid function\n",
    "def sigmoid(x):\n",
    "    return 1 / (1 + np.exp(-x))"
   ]
  },
  {
   "cell_type": "code",
   "execution_count": 3,
   "id": "cddfb9fa-c358-4647-9185-5851e12a88dc",
   "metadata": {},
   "outputs": [],
   "source": [
    "def F(t, A_1, k_max, tau):\n",
    "    return A_1 * sigmoid(k_max*(t - tau))"
   ]
  },
  {
   "cell_type": "code",
   "execution_count": 4,
   "id": "f3b5d24b-ca0a-44c7-ae97-967469a33fbf",
   "metadata": {},
   "outputs": [],
   "source": [
    "# Define the function to fit\n",
    "def F2(t, A1, A2, k_max, tau, d):\n",
    "    \n",
    "    t_threshold = np.min([1.5*tau, tau + 1.5])\n",
    "    base_growth = A1 * sigmoid(k_max*(t - tau))\n",
    "    modifier_term = (1 - A2/A1)*np.exp(-d*(t - t_threshold)) + (A2/A1)\n",
    "\n",
    "    print(t_threshold)\n",
    "    print(base_growth_)\n",
    "    print(modifier_term)\n",
    "\n",
    "    \n",
    "    if t < t_threshold:\n",
    "        return base_growth_function\n",
    "    else:\n",
    "        return modifier_term * base_growth_function"
   ]
  },
  {
   "cell_type": "code",
   "execution_count": 5,
   "id": "bdc16487-91bc-4251-9afd-4730b3c63835",
   "metadata": {},
   "outputs": [
    {
     "name": "stdout",
     "output_type": "stream",
     "text": [
      "      Well  Time   OD600  minutes      hours  Tet     Plasmid  \\\n",
      "0       A2     1  0.1069       10   0.166667    0  No plasmid   \n",
      "1       A2     2  0.1078       20   0.333333    0  No plasmid   \n",
      "2       A2     3  0.1106       30   0.500000    0  No plasmid   \n",
      "3       A2     4  0.1153       40   0.666667    0  No plasmid   \n",
      "4       A2     5  0.1220       50   0.833333    0  No plasmid   \n",
      "...    ...   ...     ...      ...        ...  ...         ...   \n",
      "11155  H11   176  0.8250     1760  29.333333   50         pUC   \n",
      "11156  H11   177  0.8173     1770  29.500000   50         pUC   \n",
      "11157  H11   178  0.8269     1780  29.666667   50         pUC   \n",
      "11158  H11   179  0.8193     1790  29.833333   50         pUC   \n",
      "11159  H11   180  0.8040     1800  30.000000   50         pUC   \n",
      "\n",
      "       EvolutionReplicate  lost_pUC EvolvedPlasmid  GFP55  GFP100  \\\n",
      "0                       1     False     No plasmid     17    1323   \n",
      "1                       1     False     No plasmid     15    1256   \n",
      "2                       1     False     No plasmid     14    1239   \n",
      "3                       1     False     No plasmid     14    1237   \n",
      "4                       1     False     No plasmid     15    1239   \n",
      "...                   ...       ...            ...    ...     ...   \n",
      "11155                  10      True       lost pUC     64    5145   \n",
      "11156                  10      True       lost pUC     64    5167   \n",
      "11157                  10      True       lost pUC     65    5200   \n",
      "11158                  10      True       lost pUC     65    5209   \n",
      "11159                  10      True       lost pUC     65    5215   \n",
      "\n",
      "       normalized.GFP55  normalized.GFP100  log.normalized.GFP55  \\\n",
      "0            159.027130       12376.052501              5.069075   \n",
      "1            139.146569       11651.206045              4.935528   \n",
      "2            126.582276       11202.531443              4.840893   \n",
      "3            121.422376       10728.534258              4.799275   \n",
      "4            122.950819       10155.737622              4.811784   \n",
      "...                 ...                ...                   ...   \n",
      "11155         77.575759        6236.363727              4.351255   \n",
      "11156         78.306617        6322.035802              4.360632   \n",
      "11157         78.606844        6288.547549              4.364459   \n",
      "11158         79.336019        6357.866502              4.373692   \n",
      "11159         80.845769        6486.318247              4.392543   \n",
      "\n",
      "       log.normalized.GFP100      Date  \n",
      "0                   9.423519  2023-8-8  \n",
      "1                   9.363165  2023-8-8  \n",
      "2                   9.323895  2023-8-8  \n",
      "3                   9.280662  2023-8-8  \n",
      "4                   9.225794  2023-8-8  \n",
      "...                      ...       ...  \n",
      "11155               8.738153  2023-8-8  \n",
      "11156               8.751797  2023-8-8  \n",
      "11157               8.746485  2023-8-8  \n",
      "11158               8.757448  2023-8-8  \n",
      "11159               8.777450  2023-8-8  \n",
      "\n",
      "[11160 rows x 17 columns]\n"
     ]
    }
   ],
   "source": [
    "test_dataframe = pd.read_csv(\"../results/tetA-GFP-growth-results/2023-8-8-tetA-GFP-evolved-clones-OD600.csv\")\n",
    "print(test_dataframe)"
   ]
  },
  {
   "cell_type": "code",
   "execution_count": 6,
   "id": "38cb1b9e-32f1-42a1-8fb2-3d3888690b8c",
   "metadata": {},
   "outputs": [
    {
     "data": {
      "text/plain": [
       "{'A10',\n",
       " 'A11',\n",
       " 'A2',\n",
       " 'A3',\n",
       " 'A4',\n",
       " 'A5',\n",
       " 'A6',\n",
       " 'A7',\n",
       " 'A8',\n",
       " 'A9',\n",
       " 'B10',\n",
       " 'B11',\n",
       " 'B2',\n",
       " 'B3',\n",
       " 'B4',\n",
       " 'B5',\n",
       " 'B6',\n",
       " 'B7',\n",
       " 'B8',\n",
       " 'B9',\n",
       " 'C10',\n",
       " 'C11',\n",
       " 'C2',\n",
       " 'C3',\n",
       " 'C4',\n",
       " 'C5',\n",
       " 'C6',\n",
       " 'C7',\n",
       " 'C8',\n",
       " 'C9',\n",
       " 'D11',\n",
       " 'E11',\n",
       " 'F10',\n",
       " 'F11',\n",
       " 'F2',\n",
       " 'F3',\n",
       " 'F4',\n",
       " 'F5',\n",
       " 'F6',\n",
       " 'F7',\n",
       " 'F8',\n",
       " 'F9',\n",
       " 'G10',\n",
       " 'G11',\n",
       " 'G2',\n",
       " 'G3',\n",
       " 'G4',\n",
       " 'G5',\n",
       " 'G6',\n",
       " 'G7',\n",
       " 'G8',\n",
       " 'G9',\n",
       " 'H10',\n",
       " 'H11',\n",
       " 'H2',\n",
       " 'H3',\n",
       " 'H4',\n",
       " 'H5',\n",
       " 'H6',\n",
       " 'H7',\n",
       " 'H8',\n",
       " 'H9'}"
      ]
     },
     "execution_count": 6,
     "metadata": {},
     "output_type": "execute_result"
    }
   ],
   "source": [
    "set(test_dataframe['Well'])"
   ]
  },
  {
   "cell_type": "code",
   "execution_count": 7,
   "id": "1130ba60-e23c-4f8d-adcc-3254256e26bd",
   "metadata": {},
   "outputs": [
    {
     "data": {
      "image/png": "[encoded data removed]",
      "text/plain": [
       "<Figure size 640x480 with 1 Axes>"
      ]
     },
     "metadata": {},
     "output_type": "display_data"
    },
    {
     "name": "stdout",
     "output_type": "stream",
     "text": [
      "Fitted A_1: 0.8969710877180047\n",
      "Fitted k_max: 0.0404913554424118\n",
      "Fitted tau: 42.259629722288324\n"
     ]
    }
   ],
   "source": [
    "# Just analyze one well:\n",
    "t_data = test_dataframe[test_dataframe['Well'] == 'F2'][\"Time\"]\n",
    "y_data = test_dataframe[test_dataframe['Well'] == 'F2'][\"OD600\"]\n",
    "\n",
    "# Fit the data to the function\n",
    "params, covariance = curve_fit(F, t_data, y_data)\n",
    "\n",
    "# Extract the fitted parameters\n",
    "A_1_fit, k_max_fit, tau_fit = params\n",
    "\n",
    "# Plot the data and the fitted curve\n",
    "plt.scatter(t_data, y_data, label='Data')\n",
    "plt.plot(t_data, F(t_data, A_1_fit, k_max_fit, tau_fit), label='Fitted Curve', color='red')\n",
    "plt.xlabel('t')\n",
    "plt.ylabel('F(t)')\n",
    "plt.legend()\n",
    "plt.show()\n",
    "\n",
    "# Print the fitted parameters\n",
    "print(f\"Fitted A_1: {A_1_fit}\")\n",
    "print(f\"Fitted k_max: {k_max_fit}\")\n",
    "print(f\"Fitted tau: {tau_fit}\")"
   ]
  },
  {
   "cell_type": "code",
   "execution_count": 8,
   "id": "b6b4e23b-f64b-4015-bd26-7b97ec40361b",
   "metadata": {},
   "outputs": [],
   "source": [
    "#params, covariance = curve_fit(F2, t_data, y_data)\n",
    "#A1_fit, A2_fit, k_max_fit, tau_fit, d_fit = params\n",
    "#plt.plot(t_data, F2(t_data, A1_fit, A2_fit, k_max_fit, tau_fit, d_fit), label='Fitted Curve', color='red')\n"
   ]
  },
  {
   "cell_type": "code",
   "execution_count": null,
   "id": "1b95f89f-55d3-442a-abd4-10f5bcde3196",
   "metadata": {},
   "outputs": [],
   "source": []
  }
 ],
 "metadata": {
  "kernelspec": {
   "display_name": "Python 3 (ipykernel)",
   "language": "python",
   "name": "python3"
  },
  "language_info": {
   "codemirror_mode": {
    "name": "ipython",
    "version": 3
   },
   "file_extension": ".py",
   "mimetype": "text/x-python",
   "name": "python",
   "nbconvert_exporter": "python",
   "pygments_lexer": "ipython3",
   "version": "3.11.3"
  }
 },
 "nbformat": 4,
 "nbformat_minor": 5
}
